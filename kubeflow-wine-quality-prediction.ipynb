{
 "cells": [
  {
   "cell_type": "markdown",
   "metadata": {},
   "source": [
    "## Building Docker Artifacts"
   ]
  },
  {
   "cell_type": "code",
   "execution_count": null,
   "metadata": {},
   "outputs": [],
   "source": [
    "cd farmer"
   ]
  },
  {
   "cell_type": "code",
   "execution_count": null,
   "metadata": {},
   "outputs": [],
   "source": [
    "!docker login -u username -p password"
   ]
  },
  {
   "cell_type": "code",
   "execution_count": 100,
   "metadata": {},
   "outputs": [
    {
     "name": "stdout",
     "output_type": "stream",
     "text": [
      "Overwriting config.py\n"
     ]
    }
   ],
   "source": [
    "%%writefile config.py\n",
    "gs_bucket_name=\"data-labeling-demo\"\n",
    "Bucket_uri=\"gs://data-labeling-demo\"\n",
    "version=1\n",
    "store_artifacts=Bucket_uri + \"/\" + str(version)\n",
    "data_path=Bucket_uri + \"/\" + \"data/data_raw.csv\"\n",
    "processed_data=Bucket_uri + \"/\" + \"processed/data_processed.csv\""
   ]
  },
  {
   "cell_type": "code",
   "execution_count": 101,
   "metadata": {},
   "outputs": [
    {
     "name": "stdout",
     "output_type": "stream",
     "text": [
      "Overwriting Dockerfile\n"
     ]
    }
   ],
   "source": [
    "%%writefile Dockerfile\n",
    "FROM tensorflow/tensorflow:2.2.0-gpu\n",
    "ARG DEBIAN_FRONTEND=noninteractive\n",
    "# Install apt dependencies\n",
    "RUN apt-get update && apt-get install -y \\\n",
    "    git \\\n",
    "    gpg-agent \\\n",
    "    python3-cairocffi \\\n",
    "    protobuf-compiler \\\n",
    "    python3-pil \\\n",
    "    python3-lxml \\\n",
    "    python3-tk \\\n",
    "    wget\n",
    "# Install gcloud and gsutil commands\n",
    "# https://cloud.google.com/sdk/docs/quickstart-debian-ubuntu\n",
    "RUN export CLOUD_SDK_REPO=\"cloud-sdk-$(lsb_release -c -s)\" && \\\n",
    "    echo \"deb http://packages.cloud.google.com/apt $CLOUD_SDK_REPO main\" | tee -a /etc/apt/sources.list.d/google-cloud-sdk.list && \\\n",
    "    curl https://packages.cloud.google.com/apt/doc/apt-key.gpg | apt-key add - && \\\n",
    "    apt-get update -y && apt-get install google-cloud-sdk -y\n",
    "WORKDIR /pipeline\n",
    "COPY ./ ./\n",
    "RUN pip install -r requirements.txt\n",
    "RUN pip install \"dask[dataframe]\" --upgrade\n",
    "ENV TF_CPP_MIN_LOG_LEVEL 3"
   ]
  },
  {
   "cell_type": "markdown",
   "metadata": {},
   "source": [
    "## Build Docker Image"
   ]
  },
  {
   "cell_type": "code",
   "execution_count": 102,
   "metadata": {},
   "outputs": [
    {
     "name": "stdout",
     "output_type": "stream",
     "text": [
      "Sending build context to Docker daemon  109.6kB\n",
      "Step 1/9 : FROM tensorflow/tensorflow:2.2.0-gpu\n",
      " ---> f5ba7a196d56\n",
      "Step 2/9 : ARG DEBIAN_FRONTEND=noninteractive\n",
      " ---> Using cache\n",
      " ---> 9fc4229fc73e\n",
      "Step 3/9 : RUN apt-get update && apt-get install -y     git     gpg-agent     python3-cairocffi     protobuf-compiler     python3-pil     python3-lxml     python3-tk     wget\n",
      " ---> Using cache\n",
      " ---> 73c89cdcd934\n",
      "Step 4/9 : RUN export CLOUD_SDK_REPO=\"cloud-sdk-$(lsb_release -c -s)\" &&     echo \"deb http://packages.cloud.google.com/apt $CLOUD_SDK_REPO main\" | tee -a /etc/apt/sources.list.d/google-cloud-sdk.list &&     curl https://packages.cloud.google.com/apt/doc/apt-key.gpg | apt-key add - &&     apt-get update -y && apt-get install google-cloud-sdk -y\n",
      " ---> Using cache\n",
      " ---> eb9e17807a13\n",
      "Step 5/9 : WORKDIR /pipeline\n",
      " ---> Using cache\n",
      " ---> 62528170fddb\n",
      "Step 6/9 : COPY ./ ./\n",
      " ---> 04e4e27fed5a\n",
      "Step 7/9 : RUN pip install -r requirements.txt\n",
      " ---> Running in 33e90c3cc477\n",
      "Collecting wget\n",
      "  Downloading wget-3.2.zip (10 kB)\n",
      "Collecting sklearn\n",
      "  Downloading sklearn-0.0.tar.gz (1.1 kB)\n",
      "Collecting pandas\n",
      "  Downloading pandas-1.1.5-cp36-cp36m-manylinux1_x86_64.whl (9.5 MB)\n",
      "Collecting seaborn\n",
      "  Downloading seaborn-0.11.1-py3-none-any.whl (285 kB)\n",
      "Collecting matplotlib\n",
      "  Downloading matplotlib-3.3.4-cp36-cp36m-manylinux1_x86_64.whl (11.5 MB)\n",
      "Collecting dvc\n",
      "  Downloading dvc-1.11.13-py2.py3-none-any.whl (549 kB)\n",
      "Collecting google-api-python-client\n",
      "  Downloading google_api_python_client-1.12.8-py2.py3-none-any.whl (61 kB)\n",
      "Collecting dask[dataframe]\n",
      "  Downloading dask-2021.1.1-py3-none-any.whl (891 kB)\n",
      "Collecting gcsfs\n",
      "  Downloading gcsfs-0.7.1-py2.py3-none-any.whl (20 kB)\n",
      "Collecting google-cloud\n",
      "  Downloading google_cloud-0.34.0-py2.py3-none-any.whl (1.8 kB)\n",
      "Collecting google-cloud-storage\n",
      "  Downloading google_cloud_storage-1.35.0-py2.py3-none-any.whl (96 kB)\n",
      "Collecting scikit-learn\n",
      "  Downloading scikit_learn-0.24.1-cp36-cp36m-manylinux2010_x86_64.whl (22.2 MB)\n",
      "Collecting pytz>=2017.2\n",
      "  Downloading pytz-2020.5-py2.py3-none-any.whl (510 kB)\n",
      "Requirement already satisfied: numpy>=1.15.4 in /usr/local/lib/python3.6/dist-packages (from pandas->-r requirements.txt (line 3)) (1.18.4)\n",
      "Collecting python-dateutil>=2.7.3\n",
      "  Downloading python_dateutil-2.8.1-py2.py3-none-any.whl (227 kB)\n",
      "Requirement already satisfied: scipy>=1.0 in /usr/local/lib/python3.6/dist-packages (from seaborn->-r requirements.txt (line 4)) (1.4.1)\n",
      "Collecting pyparsing!=2.0.4,!=2.1.2,!=2.1.6,>=2.0.3\n",
      "  Downloading pyparsing-2.4.7-py2.py3-none-any.whl (67 kB)\n",
      "Collecting cycler>=0.10\n",
      "  Downloading cycler-0.10.0-py2.py3-none-any.whl (6.5 kB)\n",
      "Collecting kiwisolver>=1.0.1\n",
      "  Downloading kiwisolver-1.3.1-cp36-cp36m-manylinux1_x86_64.whl (1.1 MB)\n",
      "Collecting pillow>=6.2.0\n",
      "  Downloading Pillow-8.1.0-cp36-cp36m-manylinux1_x86_64.whl (2.2 MB)\n",
      "Collecting nanotime>=0.5.2\n",
      "  Downloading nanotime-0.5.2.tar.gz (3.2 kB)\n",
      "Collecting flufl.lock<4,>=3.2\n",
      "  Downloading flufl.lock-3.2.tar.gz (19 kB)\n",
      "Collecting networkx>=2.1\n",
      "  Downloading networkx-2.5-py3-none-any.whl (1.6 MB)\n",
      "Collecting zc.lockfile>=1.2.1\n",
      "  Downloading zc.lockfile-2.0-py2.py3-none-any.whl (9.7 kB)\n",
      "Collecting dpath<3,>=2.0.1\n",
      "  Downloading dpath-2.0.1.tar.gz (21 kB)\n",
      "Collecting pygtrie==2.3.2\n",
      "  Downloading pygtrie-2.3.2.tar.gz (33 kB)\n",
      "Collecting flatten-dict<1,>=0.3.0\n",
      "  Downloading flatten_dict-0.3.0-py2.py3-none-any.whl (8.2 kB)\n",
      "Collecting packaging>=19.0\n",
      "  Downloading packaging-20.9-py2.py3-none-any.whl (40 kB)\n",
      "Collecting gitpython>3\n",
      "  Downloading GitPython-3.1.12-py3-none-any.whl (159 kB)\n",
      "Collecting tqdm<5,>=4.45.0\n",
      "  Downloading tqdm-4.56.0-py2.py3-none-any.whl (72 kB)\n",
      "Collecting dataclasses==0.7; python_version < \"3.7\"\n",
      "  Downloading dataclasses-0.7-py3-none-any.whl (18 kB)\n",
      "Collecting dictdiffer>=0.8.1\n",
      "  Downloading dictdiffer-0.8.1-py2.py3-none-any.whl (16 kB)\n",
      "Collecting rich>=3.0.5\n",
      "  Downloading rich-9.10.0-py3-none-any.whl (188 kB)\n",
      "Collecting appdirs>=1.4.3\n",
      "  Downloading appdirs-1.4.4-py2.py3-none-any.whl (9.6 kB)\n",
      "Collecting toml>=0.10.1\n",
      "  Downloading toml-0.10.2-py2.py3-none-any.whl (16 kB)\n",
      "Requirement already satisfied: requests>=2.22.0 in /usr/local/lib/python3.6/dist-packages (from dvc->-r requirements.txt (line 6)) (2.23.0)\n",
      "Collecting configobj>=5.0.6\n",
      "  Downloading configobj-5.0.6.tar.gz (33 kB)\n",
      "Collecting jsonpath-ng>=1.5.1\n",
      "  Downloading jsonpath_ng-1.5.2-py3-none-any.whl (28 kB)\n",
      "Collecting colorama>=0.3.9\n",
      "  Downloading colorama-0.4.4-py2.py3-none-any.whl (16 kB)\n",
      "Collecting ruamel.yaml>=0.16.1\n",
      "  Downloading ruamel.yaml-0.16.12-py2.py3-none-any.whl (111 kB)\n",
      "Collecting pathspec>=0.6.0\n",
      "  Downloading pathspec-0.8.1-py2.py3-none-any.whl (28 kB)\n",
      "Collecting python-benedict>=0.21.1\n",
      "  Downloading python_benedict-0.23.2-py3-none-any.whl (39 kB)\n",
      "Collecting typing-extensions>=3.7.4\n",
      "  Downloading typing_extensions-3.7.4.3-py3-none-any.whl (22 kB)\n",
      "Requirement already satisfied: ply>=3.9 in /usr/lib/python3/dist-packages (from dvc->-r requirements.txt (line 6)) (3.11)\n",
      "Collecting distro>=1.3.0\n",
      "  Downloading distro-1.5.0-py2.py3-none-any.whl (18 kB)\n",
      "Collecting voluptuous>=0.11.7\n",
      "  Downloading voluptuous-0.12.1-py3-none-any.whl (29 kB)\n",
      "Collecting shortuuid>=0.5.0\n",
      "  Downloading shortuuid-1.0.1-py3-none-any.whl (7.5 kB)\n",
      "Collecting grandalf==0.6\n",
      "  Downloading grandalf-0.6-py3-none-any.whl (31 kB)\n",
      "Requirement already satisfied: pyasn1>=0.4.1 in /usr/local/lib/python3.6/dist-packages (from dvc->-r requirements.txt (line 6)) (0.4.8)\n",
      "Collecting shtab<2,>=1.3.2\n",
      "  Downloading shtab-1.3.4-py2.py3-none-any.whl (14 kB)\n",
      "Collecting dulwich>=0.20.14\n",
      "  Downloading dulwich-0.20.15-cp36-cp36m-manylinux2010_x86_64.whl (504 kB)\n",
      "Collecting tabulate>=0.8.7\n",
      "  Downloading tabulate-0.8.7-py3-none-any.whl (24 kB)\n",
      "Collecting pydot>=1.2.4\n",
      "  Downloading pydot-1.4.1-py2.py3-none-any.whl (19 kB)\n",
      "Collecting funcy>=1.14\n",
      "  Downloading funcy-1.15-py2.py3-none-any.whl (32 kB)\n",
      "Requirement already satisfied: setuptools>=34.0.0 in /usr/local/lib/python3.6/dist-packages (from dvc->-r requirements.txt (line 6)) (46.1.3)\n",
      "Collecting uritemplate<4dev,>=3.0.0\n",
      "  Downloading uritemplate-3.0.1-py2.py3-none-any.whl (15 kB)\n",
      "Collecting google-auth-httplib2>=0.0.3\n",
      "  Downloading google_auth_httplib2-0.0.4-py2.py3-none-any.whl (9.1 kB)\n",
      "Requirement already satisfied: six<2dev,>=1.13.0 in /usr/local/lib/python3.6/dist-packages (from google-api-python-client->-r requirements.txt (line 7)) (1.14.0)\n",
      "Collecting google-auth>=1.16.0\n",
      "  Downloading google_auth-1.24.0-py2.py3-none-any.whl (114 kB)\n",
      "Collecting httplib2<1dev,>=0.15.0\n",
      "  Downloading httplib2-0.18.1-py3-none-any.whl (95 kB)\n",
      "Collecting google-api-core<2dev,>=1.21.0\n",
      "  Downloading google_api_core-1.25.1-py2.py3-none-any.whl (92 kB)\n",
      "Collecting pyyaml\n",
      "  Downloading PyYAML-5.4.1-cp36-cp36m-manylinux1_x86_64.whl (640 kB)\n",
      "Collecting partd>=0.3.10; extra == \"dataframe\"\n",
      "  Downloading partd-1.1.0-py3-none-any.whl (19 kB)\n",
      "Collecting fsspec>=0.6.0; extra == \"dataframe\"\n",
      "  Downloading fsspec-0.8.5-py3-none-any.whl (98 kB)\n",
      "Collecting toolz>=0.8.2; extra == \"dataframe\"\n",
      "  Downloading toolz-0.11.1-py3-none-any.whl (55 kB)\n",
      "Requirement already satisfied: google-auth-oauthlib in /usr/local/lib/python3.6/dist-packages (from gcsfs->-r requirements.txt (line 9)) (0.4.1)\n",
      "Collecting aiohttp\n",
      "  Downloading aiohttp-3.7.3-cp36-cp36m-manylinux2014_x86_64.whl (1.3 MB)\n",
      "Collecting decorator\n",
      "  Downloading decorator-4.4.2-py2.py3-none-any.whl (9.2 kB)\n",
      "Collecting google-resumable-media<2.0dev,>=1.2.0\n",
      "  Downloading google_resumable_media-1.2.0-py2.py3-none-any.whl (75 kB)\n",
      "Collecting google-cloud-core<2.0dev,>=1.4.1\n",
      "  Downloading google_cloud_core-1.5.0-py2.py3-none-any.whl (27 kB)\n",
      "Collecting joblib>=0.11\n",
      "  Downloading joblib-1.0.0-py3-none-any.whl (302 kB)\n",
      "Collecting threadpoolctl>=2.0.0\n",
      "  Downloading threadpoolctl-2.1.0-py3-none-any.whl (12 kB)\n",
      "Collecting atpublic\n",
      "  Downloading atpublic-2.1.2.tar.gz (16 kB)\n",
      "Collecting pathlib2<3.0,>=2.3\n",
      "  Downloading pathlib2-2.3.5-py2.py3-none-any.whl (18 kB)\n",
      "Collecting gitdb<5,>=4.0.1\n",
      "  Downloading gitdb-4.0.5-py3-none-any.whl (63 kB)\n",
      "Collecting pygments<3.0.0,>=2.6.0\n",
      "  Downloading Pygments-2.7.4-py3-none-any.whl (950 kB)\n",
      "Collecting commonmark<0.10.0,>=0.9.0\n",
      "  Downloading commonmark-0.9.1-py2.py3-none-any.whl (51 kB)\n",
      "Requirement already satisfied: urllib3!=1.25.0,!=1.25.1,<1.26,>=1.21.1 in /usr/local/lib/python3.6/dist-packages (from requests>=2.22.0->dvc->-r requirements.txt (line 6)) (1.25.9)\n",
      "Requirement already satisfied: idna<3,>=2.5 in /usr/lib/python3/dist-packages (from requests>=2.22.0->dvc->-r requirements.txt (line 6)) (2.6)\n",
      "Requirement already satisfied: chardet<4,>=3.0.2 in /usr/local/lib/python3.6/dist-packages (from requests>=2.22.0->dvc->-r requirements.txt (line 6)) (3.0.4)\n",
      "Requirement already satisfied: certifi>=2017.4.17 in /usr/local/lib/python3.6/dist-packages (from requests>=2.22.0->dvc->-r requirements.txt (line 6)) (2020.4.5.1)\n",
      "Collecting ruamel.yaml.clib>=0.1.2; platform_python_implementation == \"CPython\" and python_version < \"3.9\"\n",
      "  Downloading ruamel.yaml.clib-0.2.2-cp36-cp36m-manylinux1_x86_64.whl (549 kB)\n",
      "Collecting python-fsutil\n",
      "  Downloading python_fsutil-0.4.0-py3-none-any.whl (11 kB)\n",
      "Collecting xmltodict\n",
      "  Downloading xmltodict-0.12.0-py2.py3-none-any.whl (9.2 kB)\n",
      "Collecting python-slugify\n",
      "  Downloading python-slugify-4.0.1.tar.gz (11 kB)\n",
      "Collecting mailchecker\n",
      "  Downloading mailchecker-4.0.3.tar.gz (200 kB)\n",
      "Collecting ftfy; python_version > \"2.7\"\n",
      "  Downloading ftfy-5.8.tar.gz (64 kB)\n",
      "Collecting phonenumbers\n",
      "  Downloading phonenumbers-8.12.17-py2.py3-none-any.whl (2.6 MB)\n",
      "Collecting future\n",
      "  Downloading future-0.18.2.tar.gz (829 kB)\n",
      "Requirement already satisfied: pyasn1-modules>=0.2.1 in /usr/local/lib/python3.6/dist-packages (from google-auth>=1.16.0->google-api-python-client->-r requirements.txt (line 7)) (0.2.8)\n",
      "Requirement already satisfied: rsa<5,>=3.1.4; python_version >= \"3.6\" in /usr/local/lib/python3.6/dist-packages (from google-auth>=1.16.0->google-api-python-client->-r requirements.txt (line 7)) (4.0)\n",
      "Requirement already satisfied: cachetools<5.0,>=2.0.0 in /usr/local/lib/python3.6/dist-packages (from google-auth>=1.16.0->google-api-python-client->-r requirements.txt (line 7)) (4.1.0)\n",
      "Collecting protobuf>=3.12.0\n",
      "  Downloading protobuf-3.14.0-cp36-cp36m-manylinux1_x86_64.whl (1.0 MB)\n",
      "Collecting googleapis-common-protos<2.0dev,>=1.6.0\n",
      "  Downloading googleapis_common_protos-1.52.0-py2.py3-none-any.whl (100 kB)\n",
      "Collecting locket\n",
      "  Downloading locket-0.2.1-py2.py3-none-any.whl (4.1 kB)\n",
      "Requirement already satisfied: requests-oauthlib>=0.7.0 in /usr/local/lib/python3.6/dist-packages (from google-auth-oauthlib->gcsfs->-r requirements.txt (line 9)) (1.3.0)\n",
      "Collecting multidict<7.0,>=4.5\n",
      "  Downloading multidict-5.1.0-cp36-cp36m-manylinux2014_x86_64.whl (141 kB)\n",
      "Collecting attrs>=17.3.0\n",
      "  Downloading attrs-20.3.0-py2.py3-none-any.whl (49 kB)\n",
      "Collecting idna-ssl>=1.0; python_version < \"3.7\"\n",
      "  Downloading idna-ssl-1.1.0.tar.gz (3.4 kB)\n",
      "Collecting async-timeout<4.0,>=3.0\n",
      "  Downloading async_timeout-3.0.1-py3-none-any.whl (8.2 kB)\n",
      "Collecting yarl<2.0,>=1.0\n",
      "  Downloading yarl-1.6.3-cp36-cp36m-manylinux2014_x86_64.whl (293 kB)\n",
      "Collecting google-crc32c<2.0dev,>=1.0; python_version >= \"3.5\"\n",
      "  Downloading google_crc32c-1.1.2-cp36-cp36m-manylinux2014_x86_64.whl (38 kB)\n",
      "Collecting smmap<4,>=3.0.1\n",
      "  Downloading smmap-3.0.5-py2.py3-none-any.whl (25 kB)\n",
      "Collecting text-unidecode>=1.3\n",
      "  Downloading text_unidecode-1.3-py2.py3-none-any.whl (78 kB)\n",
      "Collecting wcwidth\n",
      "  Downloading wcwidth-0.2.5-py2.py3-none-any.whl (30 kB)\n",
      "Requirement already satisfied: oauthlib>=3.0.0 in /usr/local/lib/python3.6/dist-packages (from requests-oauthlib>=0.7.0->google-auth-oauthlib->gcsfs->-r requirements.txt (line 9)) (3.1.0)\n",
      "Requirement already satisfied: cffi>=1.0.0 in /usr/lib/python3/dist-packages (from google-crc32c<2.0dev,>=1.0; python_version >= \"3.5\"->google-resumable-media<2.0dev,>=1.2.0->google-cloud-storage->-r requirements.txt (line 11)) (1.11.5)\n",
      "Building wheels for collected packages: wget, sklearn, nanotime, flufl.lock, dpath, pygtrie, configobj, atpublic, python-slugify, mailchecker, ftfy, future, idna-ssl\n",
      "  Building wheel for wget (setup.py): started\n",
      "  Building wheel for wget (setup.py): finished with status 'done'\n",
      "  Created wheel for wget: filename=wget-3.2-py3-none-any.whl size=11569 sha256=1bf5eb83880a772c97b0024824595786bcc71ca7bfd3781d0e6496d1331da8a1\n",
      "  Stored in directory: /root/.cache/pip/wheels/90/1d/93/c863ee832230df5cfc25ca497b3e88e0ee3ea9e44adc46ac62\n",
      "  Building wheel for sklearn (setup.py): started\n",
      "  Building wheel for sklearn (setup.py): finished with status 'done'\n",
      "  Created wheel for sklearn: filename=sklearn-0.0-py2.py3-none-any.whl size=2397 sha256=0d0912ae780267739d1c11405dc82f8cb5b592224c19f2d87c1c5c20d1e6fa39\n",
      "  Stored in directory: /root/.cache/pip/wheels/23/9d/42/5ec745cbbb17517000a53cecc49d6a865450d1f5cb16dc8a9c\n",
      "  Building wheel for nanotime (setup.py): started\n",
      "  Building wheel for nanotime (setup.py): finished with status 'done'\n",
      "  Created wheel for nanotime: filename=nanotime-0.5.2-py3-none-any.whl size=3185 sha256=2a172009f78549a7e5235438b63d4d8c478e55c1c0ebb9ec3a9361c12e8e0ea5\n",
      "  Stored in directory: /root/.cache/pip/wheels/91/5b/8f/6e56a83ebe3923db0f47b9c4ca9ad3c5740149e0ae340e6cbb\n",
      "  Building wheel for flufl.lock (setup.py): started\n",
      "  Building wheel for flufl.lock (setup.py): finished with status 'done'\n",
      "  Created wheel for flufl.lock: filename=flufl.lock-3.2-py3-none-any.whl size=20856 sha256=44b49a6200f8ac0b834dac2703da54dcfcbf3068739685ab3e99f3fc5ce3feb8\n",
      "  Stored in directory: /root/.cache/pip/wheels/98/58/da/2b5708799a34629d45d1a56af797ace4409a7815ca4bf0cb5f\n",
      "  Building wheel for dpath (setup.py): started\n",
      "  Building wheel for dpath (setup.py): finished with status 'done'\n",
      "  Created wheel for dpath: filename=dpath-2.0.1-py3-none-any.whl size=19592 sha256=c12a3deae18b8f7a951e3e998b9bf46ae45255db3ba7287a4e8ba44b0727d2ec\n",
      "  Stored in directory: /root/.cache/pip/wheels/1f/7c/bd/2087460f9e166e9d26f3c9d3a6ae454f54eafd0faff3fe2c90\n",
      "  Building wheel for pygtrie (setup.py): started\n",
      "  Building wheel for pygtrie (setup.py): finished with status 'done'\n",
      "  Created wheel for pygtrie: filename=pygtrie-2.3.2-py3-none-any.whl size=22242 sha256=12beea038e593a354158c110277a35f07b37c8d67f8c078861fd3dc4d58a32ba\n",
      "  Stored in directory: /root/.cache/pip/wheels/61/d6/bb/5b28eeabebba577ba4d4251891e9761d14177c5c4c9ce28168\n",
      "  Building wheel for configobj (setup.py): started\n",
      "  Building wheel for configobj (setup.py): finished with status 'done'\n",
      "  Created wheel for configobj: filename=configobj-5.0.6-py3-none-any.whl size=36364 sha256=2f7af7678a2440e4fe67b2c5d8e1dafee79c166ace14a1607507b4c7ee5cf341\n",
      "  Stored in directory: /root/.cache/pip/wheels/14/d5/8e/1a6dd2be7614b4a455867b3b5eb57054f278470a4c07564381\n",
      "  Building wheel for atpublic (setup.py): started\n",
      "  Building wheel for atpublic (setup.py): finished with status 'done'\n",
      "  Created wheel for atpublic: filename=atpublic-2.1.2-py3-none-any.whl size=5735 sha256=ebd0f5f077bf6e876d28111db0f57940036d835a7990d12b2fb87042153a1af0\n",
      "  Stored in directory: /root/.cache/pip/wheels/a2/a1/96/90d7c8364eaa2b33da2a1c8a1276a93daa41b1b56d3cee6f62\n",
      "  Building wheel for python-slugify (setup.py): started\n",
      "  Building wheel for python-slugify (setup.py): finished with status 'done'\n",
      "  Created wheel for python-slugify: filename=python_slugify-4.0.1-py2.py3-none-any.whl size=7016 sha256=0963aa291edabdb27c109fd492cca5ba23a0f48e85e6df38cae79c64efbf9670\n",
      "  Stored in directory: /root/.cache/pip/wheels/72/e6/db/122611605e60148f54ee2abaca98b2bbeafc6e22486a867bad\n",
      "  Building wheel for mailchecker (setup.py): started\n",
      "  Building wheel for mailchecker (setup.py): finished with status 'done'\n",
      "  Created wheel for mailchecker: filename=mailchecker-4.0.3-py3-none-any.whl size=201902 sha256=416d1dd1f941308bbdc271419f9cdee509312e39f53cf5a942d5d51795c35bc5\n",
      "  Stored in directory: /root/.cache/pip/wheels/84/f2/7d/b5f17823b1675ebae5e69a7ac1c7b84178e5f11e974f900d8d\n",
      "  Building wheel for ftfy (setup.py): started\n",
      "  Building wheel for ftfy (setup.py): finished with status 'done'\n",
      "  Created wheel for ftfy: filename=ftfy-5.8-py3-none-any.whl size=48794 sha256=6e51e62d7c07974ed33ad71c6a2f144a7e2d1ffc56c1a9de1b355f803c955158\n",
      "  Stored in directory: /root/.cache/pip/wheels/0f/35/f5/eb0a6ada2f64da8852637df14e12c7eb94f26c42546865d83d\n",
      "  Building wheel for future (setup.py): started\n",
      "  Building wheel for future (setup.py): finished with status 'done'\n",
      "  Created wheel for future: filename=future-0.18.2-py3-none-any.whl size=493275 sha256=de3f2ecb180da5798bff9b9de4aa7b935f39a6b4ea822e66bcf18e42ecaae25c\n",
      "  Stored in directory: /root/.cache/pip/wheels/6e/9c/ed/4499c9865ac1002697793e0ae05ba6be33553d098f3347fb94\n",
      "  Building wheel for idna-ssl (setup.py): started\n",
      "  Building wheel for idna-ssl (setup.py): finished with status 'done'\n",
      "  Created wheel for idna-ssl: filename=idna_ssl-1.1.0-py3-none-any.whl size=3949 sha256=2fe527b555d7f684dccc6c9cee52a763903ac46de94140c67d1266fb7ff7ed04\n",
      "  Stored in directory: /root/.cache/pip/wheels/6a/f5/9c/f8331a854f7a8739cf0e74c13854e4dd7b1af11b04fe1dde13\n",
      "Successfully built wget sklearn nanotime flufl.lock dpath pygtrie configobj atpublic python-slugify mailchecker ftfy future idna-ssl\n",
      "Installing collected packages: wget, joblib, threadpoolctl, scikit-learn, sklearn, pytz, python-dateutil, pandas, pyparsing, cycler, kiwisolver, pillow, matplotlib, seaborn, nanotime, typing-extensions, atpublic, flufl.lock, decorator, networkx, zc.lockfile, dpath, pygtrie, pathlib2, flatten-dict, packaging, smmap, gitdb, gitpython, tqdm, dataclasses, dictdiffer, pygments, commonmark, colorama, rich, appdirs, toml, configobj, jsonpath-ng, ruamel.yaml.clib, ruamel.yaml, pathspec, python-fsutil, xmltodict, text-unidecode, python-slugify, mailchecker, wcwidth, ftfy, pyyaml, phonenumbers, python-benedict, distro, voluptuous, shortuuid, future, grandalf, shtab, dulwich, tabulate, pydot, funcy, dvc, uritemplate, google-auth, httplib2, google-auth-httplib2, protobuf, googleapis-common-protos, google-api-core, google-api-python-client, toolz, locket, partd, fsspec, dask, multidict, attrs, idna-ssl, async-timeout, yarl, aiohttp, gcsfs, google-cloud, google-crc32c, google-resumable-media, google-cloud-core, google-cloud-storage\n",
      "  Attempting uninstall: pillow\n",
      "    Found existing installation: Pillow 5.1.0\n",
      "    Uninstalling Pillow-5.1.0:\n",
      "      Successfully uninstalled Pillow-5.1.0\n",
      "  Attempting uninstall: google-auth\n",
      "    Found existing installation: google-auth 1.14.2\n",
      "    Uninstalling google-auth-1.14.2:\n",
      "      Successfully uninstalled google-auth-1.14.2\n",
      "  Attempting uninstall: protobuf\n",
      "    Found existing installation: protobuf 3.11.3\n",
      "    Uninstalling protobuf-3.11.3:\n",
      "      Successfully uninstalled protobuf-3.11.3\n",
      "Successfully installed aiohttp-3.7.3 appdirs-1.4.4 async-timeout-3.0.1 atpublic-2.1.2 attrs-20.3.0 colorama-0.4.4 commonmark-0.9.1 configobj-5.0.6 cycler-0.10.0 dask-2021.1.1 dataclasses-0.7 decorator-4.4.2 dictdiffer-0.8.1 distro-1.5.0 dpath-2.0.1 dulwich-0.20.15 dvc-1.11.13 flatten-dict-0.3.0 flufl.lock-3.2 fsspec-0.8.5 ftfy-5.8 funcy-1.15 future-0.18.2 gcsfs-0.7.1 gitdb-4.0.5 gitpython-3.1.12 google-api-core-1.25.1 google-api-python-client-1.12.8 google-auth-1.24.0 google-auth-httplib2-0.0.4 google-cloud-0.34.0 google-cloud-core-1.5.0 google-cloud-storage-1.35.0 google-crc32c-1.1.2 google-resumable-media-1.2.0 googleapis-common-protos-1.52.0 grandalf-0.6 httplib2-0.18.1 idna-ssl-1.1.0 joblib-1.0.0 jsonpath-ng-1.5.2 kiwisolver-1.3.1 locket-0.2.1 mailchecker-4.0.3 matplotlib-3.3.4 multidict-5.1.0 nanotime-0.5.2 networkx-2.5 packaging-20.9 pandas-1.1.5 partd-1.1.0 pathlib2-2.3.5 pathspec-0.8.1 phonenumbers-8.12.17 pillow-8.1.0 protobuf-3.14.0 pydot-1.4.1 pygments-2.7.4 pygtrie-2.3.2 pyparsing-2.4.7 python-benedict-0.23.2 python-dateutil-2.8.1 python-fsutil-0.4.0 python-slugify-4.0.1 pytz-2020.5 pyyaml-5.4.1 rich-9.10.0 ruamel.yaml-0.16.12 ruamel.yaml.clib-0.2.2 scikit-learn-0.24.1 seaborn-0.11.1 shortuuid-1.0.1 shtab-1.3.4 sklearn-0.0 smmap-3.0.5 tabulate-0.8.7 text-unidecode-1.3 threadpoolctl-2.1.0 toml-0.10.2 toolz-0.11.1 tqdm-4.56.0 typing-extensions-3.7.4.3 uritemplate-3.0.1 voluptuous-0.12.1 wcwidth-0.2.5 wget-3.2 xmltodict-0.12.0 yarl-1.6.3 zc.lockfile-2.0\n",
      "\u001b[91mWARNING: You are using pip version 20.1; however, version 21.0 is available.\n",
      "You should consider upgrading via the '/usr/bin/python3 -m pip install --upgrade pip' command.\n",
      "\u001b[0mRemoving intermediate container 33e90c3cc477\n",
      " ---> e87b69a39d5e\n",
      "Step 8/9 : RUN pip install \"dask[dataframe]\" --upgrade\n",
      " ---> Running in ed2e5c51cd84\n",
      "Requirement already up-to-date: dask[dataframe] in /usr/local/lib/python3.6/dist-packages (2021.1.1)\n",
      "Requirement already satisfied, skipping upgrade: pyyaml in /usr/local/lib/python3.6/dist-packages (from dask[dataframe]) (5.4.1)\n",
      "Requirement already satisfied, skipping upgrade: fsspec>=0.6.0; extra == \"dataframe\" in /usr/local/lib/python3.6/dist-packages (from dask[dataframe]) (0.8.5)\n",
      "Requirement already satisfied, skipping upgrade: partd>=0.3.10; extra == \"dataframe\" in /usr/local/lib/python3.6/dist-packages (from dask[dataframe]) (1.1.0)\n",
      "Requirement already satisfied, skipping upgrade: toolz>=0.8.2; extra == \"dataframe\" in /usr/local/lib/python3.6/dist-packages (from dask[dataframe]) (0.11.1)\n",
      "Requirement already satisfied, skipping upgrade: numpy>=1.15.1; extra == \"dataframe\" in /usr/local/lib/python3.6/dist-packages (from dask[dataframe]) (1.18.4)\n",
      "Requirement already satisfied, skipping upgrade: pandas>=0.25.0; extra == \"dataframe\" in /usr/local/lib/python3.6/dist-packages (from dask[dataframe]) (1.1.5)\n",
      "Requirement already satisfied, skipping upgrade: locket in /usr/local/lib/python3.6/dist-packages (from partd>=0.3.10; extra == \"dataframe\"->dask[dataframe]) (0.2.1)\n",
      "Requirement already satisfied, skipping upgrade: python-dateutil>=2.7.3 in /usr/local/lib/python3.6/dist-packages (from pandas>=0.25.0; extra == \"dataframe\"->dask[dataframe]) (2.8.1)\n",
      "Requirement already satisfied, skipping upgrade: pytz>=2017.2 in /usr/local/lib/python3.6/dist-packages (from pandas>=0.25.0; extra == \"dataframe\"->dask[dataframe]) (2020.5)\n",
      "Requirement already satisfied, skipping upgrade: six>=1.5 in /usr/local/lib/python3.6/dist-packages (from python-dateutil>=2.7.3->pandas>=0.25.0; extra == \"dataframe\"->dask[dataframe]) (1.14.0)\n",
      "\u001b[91mWARNING: You are using pip version 20.1; however, version 21.0 is available.\n",
      "You should consider upgrading via the '/usr/bin/python3 -m pip install --upgrade pip' command.\n",
      "\u001b[0mRemoving intermediate container ed2e5c51cd84\n",
      " ---> 486700608958\n",
      "Step 9/9 : ENV TF_CPP_MIN_LOG_LEVEL 3\n",
      " ---> Running in fcf630e05454\n",
      "Removing intermediate container fcf630e05454\n",
      " ---> f0749ec838e2\n",
      "Successfully built f0749ec838e2\n",
      "Successfully tagged doctorai/kubeflow-sdk-farmer:latest\n"
     ]
    }
   ],
   "source": [
    "!docker build -t doctorai/kubeflow-sdk-farmer ."
   ]
  },
  {
   "cell_type": "markdown",
   "metadata": {},
   "source": [
    "## Push Docker Image to Docker hub"
   ]
  },
  {
   "cell_type": "code",
   "execution_count": 103,
   "metadata": {},
   "outputs": [
    {
     "name": "stdout",
     "output_type": "stream",
     "text": [
      "The push refers to repository [docker.io/doctorai/kubeflow-sdk-farmer]\n",
      "\n",
      "\u001b[1B8991fce1: Preparing \n",
      "\u001b[1B61f632ae: Preparing \n",
      "\u001b[1Be9a60d35: Preparing \n",
      "\u001b[1Bb37303ae: Preparing \n",
      "\u001b[1B8935924b: Preparing \n",
      "\u001b[1Bea521373: Preparing \n",
      "\u001b[1Be55f84c6: Preparing \n",
      "\u001b[1Bb0f92c14: Preparing \n",
      "\u001b[1Bcf4cd527: Preparing \n",
      "\u001b[1Bc1f74e01: Preparing \n",
      "\u001b[1B9e4b0fc9: Preparing \n",
      "\u001b[1Be3b79e0a: Preparing \n",
      "\u001b[1Be43735a0: Preparing \n",
      "\u001b[1B3918ca41: Preparing \n",
      "\u001b[1B768f66a4: Preparing \n",
      "\u001b[1Bd332a58a: Preparing \n",
      "\u001b[1Bf11cbf29: Preparing \n",
      "\u001b[1Ba4b22186: Preparing \n",
      "\u001b[1Bafb09dc3: Preparing \n",
      "\u001b[1Bb5a53aac: Preparing \n",
      "\u001b[1Bc8e5063e: Preparing \n",
      "\u001b[21B1f632ae: Pushed   348.7MB/337.8MB2A\u001b[2K\u001b[17A\u001b[2K\u001b[21A\u001b[2K\u001b[21A\u001b[2K\u001b[21A\u001b[2K\u001b[21A\u001b[2K\u001b[21A\u001b[2K\u001b[12A\u001b[2K\u001b[21A\u001b[2K\u001b[21A\u001b[2K\u001b[21A\u001b[2K\u001b[10A\u001b[2K\u001b[21A\u001b[2K\u001b[21A\u001b[2K\u001b[9A\u001b[2K\u001b[8A\u001b[2K\u001b[21A\u001b[2K\u001b[21A\u001b[2K\u001b[7A\u001b[2K\u001b[6A\u001b[2K\u001b[21A\u001b[2K\u001b[21A\u001b[2K\u001b[22A\u001b[2K\u001b[4A\u001b[2K\u001b[21A\u001b[2K\u001b[21A\u001b[2K\u001b[2A\u001b[2K\u001b[21A\u001b[2K\u001b[21A\u001b[2K\u001b[21A\u001b[2K\u001b[21A\u001b[2K\u001b[21A\u001b[2K\u001b[21A\u001b[2K\u001b[21A\u001b[2K\u001b[21A\u001b[2K\u001b[21A\u001b[2K\u001b[21A\u001b[2K\u001b[21A\u001b[2K\u001b[21A\u001b[2K\u001b[21A\u001b[2K\u001b[21A\u001b[2K\u001b[21A\u001b[2K\u001b[21A\u001b[2K\u001b[21A\u001b[2K\u001b[21A\u001b[2K\u001b[21A\u001b[2K\u001b[21A\u001b[2K\u001b[21A\u001b[2K\u001b[21A\u001b[2K\u001b[21A\u001b[2K\u001b[21A\u001b[2K\u001b[21A\u001b[2K\u001b[21A\u001b[2K\u001b[21A\u001b[2K\u001b[21A\u001b[2K\u001b[21A\u001b[2K\u001b[21A\u001b[2K\u001b[21A\u001b[2K\u001b[21A\u001b[2K\u001b[21A\u001b[2K\u001b[21A\u001b[2K\u001b[21A\u001b[2K\u001b[21A\u001b[2K\u001b[21A\u001b[2K\u001b[21A\u001b[2K\u001b[21A\u001b[2K\u001b[21A\u001b[2K\u001b[21A\u001b[2K\u001b[21A\u001b[2K\u001b[21A\u001b[2K\u001b[21A\u001b[2K\u001b[21A\u001b[2K\u001b[21A\u001b[2K\u001b[21A\u001b[2K\u001b[21A\u001b[2K\u001b[21A\u001b[2K\u001b[21A\u001b[2K\u001b[21A\u001b[2K\u001b[21A\u001b[2K\u001b[21A\u001b[2K\u001b[21A\u001b[2K\u001b[21A\u001b[2K\u001b[21A\u001b[2K\u001b[21A\u001b[2K\u001b[21A\u001b[2K\u001b[21A\u001b[2K\u001b[21A\u001b[2K\u001b[21A\u001b[2K\u001b[21A\u001b[2K\u001b[21A\u001b[2K\u001b[21A\u001b[2K\u001b[21A\u001b[2K\u001b[21A\u001b[2K\u001b[21A\u001b[2K\u001b[21A\u001b[2K\u001b[21A\u001b[2K\u001b[21A\u001b[2K\u001b[21A\u001b[2K\u001b[21A\u001b[2K\u001b[21A\u001b[2K\u001b[21A\u001b[2K\u001b[21A\u001b[2K\u001b[21A\u001b[2K\u001b[21A\u001b[2K\u001b[21A\u001b[2K\u001b[21A\u001b[2K\u001b[21A\u001b[2K\u001b[21A\u001b[2K\u001b[21A\u001b[2K\u001b[21A\u001b[2K\u001b[21A\u001b[2K\u001b[21A\u001b[2K\u001b[21A\u001b[2K\u001b[21A\u001b[2K\u001b[21A\u001b[2K\u001b[21A\u001b[2K\u001b[21A\u001b[2K\u001b[21A\u001b[2K\u001b[21A\u001b[2K\u001b[21A\u001b[2K\u001b[21A\u001b[2K\u001b[21A\u001b[2K\u001b[21A\u001b[2K\u001b[21A\u001b[2K\u001b[21A\u001b[2K\u001b[21A\u001b[2K\u001b[21A\u001b[2K\u001b[21A\u001b[2K\u001b[21A\u001b[2K\u001b[21A\u001b[2K\u001b[21A\u001b[2K\u001b[21A\u001b[2K\u001b[21A\u001b[2K\u001b[21A\u001b[2K\u001b[21A\u001b[2K\u001b[21A\u001b[2K\u001b[21A\u001b[2K\u001b[21A\u001b[2K\u001b[21A\u001b[2K\u001b[21A\u001b[2K\u001b[21A\u001b[2K\u001b[21A\u001b[2K\u001b[21A\u001b[2K\u001b[21A\u001b[2K\u001b[21A\u001b[2K\u001b[21A\u001b[2K\u001b[21A\u001b[2K\u001b[21A\u001b[2K\u001b[21A\u001b[2K\u001b[21A\u001b[2K\u001b[21A\u001b[2K\u001b[21A\u001b[2K\u001b[21A\u001b[2K\u001b[21A\u001b[2K\u001b[21A\u001b[2K\u001b[21A\u001b[2K\u001b[21A\u001b[2K\u001b[21A\u001b[2K\u001b[21A\u001b[2K\u001b[21A\u001b[2K\u001b[21A\u001b[2K\u001b[21A\u001b[2K\u001b[21A\u001b[2K\u001b[21A\u001b[2K\u001b[21A\u001b[2K\u001b[21A\u001b[2K\u001b[21A\u001b[2K\u001b[21A\u001b[2K\u001b[21A\u001b[2K\u001b[21A\u001b[2K\u001b[21A\u001b[2K\u001b[21A\u001b[2K\u001b[21A\u001b[2K\u001b[21A\u001b[2K\u001b[21A\u001b[2K\u001b[21A\u001b[2K\u001b[21A\u001b[2K\u001b[21A\u001b[2K\u001b[21A\u001b[2K\u001b[21A\u001b[2K\u001b[21A\u001b[2K\u001b[21A\u001b[2Klatest: digest: sha256:2bb906b2e53060b6ea0b6d8f6b3fb03a46fd029faa504a0184d3580115828750 size: 4938\n"
     ]
    }
   ],
   "source": [
    "!docker push doctorai/kubeflow-sdk-farmer"
   ]
  },
  {
   "cell_type": "markdown",
   "metadata": {},
   "source": [
    "## Install Kubeflow SDk"
   ]
  },
  {
   "cell_type": "code",
   "execution_count": 104,
   "metadata": {},
   "outputs": [
    {
     "name": "stdout",
     "output_type": "stream",
     "text": [
      "Requirement already satisfied: kfp in /opt/conda/lib/python3.7/site-packages (1.3.0)\n",
      "Requirement already satisfied: google-cloud-storage>=1.13.0 in /opt/conda/lib/python3.7/site-packages (from kfp) (1.30.0)\n",
      "Requirement already satisfied: kfp-server-api<2.0.0,>=1.1.2 in /opt/conda/lib/python3.7/site-packages (from kfp) (1.3.0)\n",
      "Requirement already satisfied: strip-hints in /opt/conda/lib/python3.7/site-packages (from kfp) (0.1.9)\n",
      "Requirement already satisfied: kfp-pipeline-spec<0.2.0,>=0.1.0 in /opt/conda/lib/python3.7/site-packages (from kfp) (0.1.4)\n",
      "Requirement already satisfied: jsonschema>=3.0.1 in /opt/conda/lib/python3.7/site-packages (from kfp) (3.2.0)\n",
      "Requirement already satisfied: click in /opt/conda/lib/python3.7/site-packages (from kfp) (7.1.2)\n",
      "Requirement already satisfied: tabulate in /opt/conda/lib/python3.7/site-packages (from kfp) (0.8.7)\n",
      "Requirement already satisfied: docstring-parser>=0.7.3 in /opt/conda/lib/python3.7/site-packages (from kfp) (0.7.3)\n",
      "Requirement already satisfied: Deprecated in /opt/conda/lib/python3.7/site-packages (from kfp) (1.2.11)\n",
      "Requirement already satisfied: PyYAML in /opt/conda/lib/python3.7/site-packages (from kfp) (5.3.1)\n",
      "Requirement already satisfied: google-auth>=1.6.1 in /opt/conda/lib/python3.7/site-packages (from kfp) (1.24.0)\n",
      "Requirement already satisfied: kubernetes<12.0.0,>=8.0.0 in /opt/conda/lib/python3.7/site-packages (from kfp) (11.0.0)\n",
      "Requirement already satisfied: requests-toolbelt>=0.8.0 in /opt/conda/lib/python3.7/site-packages (from kfp) (0.9.1)\n",
      "Requirement already satisfied: cloudpickle in /opt/conda/lib/python3.7/site-packages (from kfp) (1.6.0)\n",
      "Requirement already satisfied: six>=1.9.0 in /opt/conda/lib/python3.7/site-packages (from google-auth>=1.6.1->kfp) (1.15.0)\n",
      "Requirement already satisfied: setuptools>=40.3.0 in /opt/conda/lib/python3.7/site-packages (from google-auth>=1.6.1->kfp) (51.1.0)\n",
      "Requirement already satisfied: cachetools<5.0,>=2.0.0 in /opt/conda/lib/python3.7/site-packages (from google-auth>=1.6.1->kfp) (4.2.0)\n",
      "Requirement already satisfied: pyasn1-modules>=0.2.1 in /opt/conda/lib/python3.7/site-packages (from google-auth>=1.6.1->kfp) (0.2.8)\n",
      "Requirement already satisfied: rsa<5,>=3.1.4 in /opt/conda/lib/python3.7/site-packages (from google-auth>=1.6.1->kfp) (4.6)\n",
      "Requirement already satisfied: google-resumable-media<2.0dev,>=0.6.0 in /opt/conda/lib/python3.7/site-packages (from google-cloud-storage>=1.13.0->kfp) (1.2.0)\n",
      "Requirement already satisfied: google-cloud-core<2.0dev,>=1.2.0 in /opt/conda/lib/python3.7/site-packages (from google-cloud-storage>=1.13.0->kfp) (1.3.0)\n",
      "Requirement already satisfied: google-api-core<2.0.0dev,>=1.16.0 in /opt/conda/lib/python3.7/site-packages (from google-cloud-core<2.0dev,>=1.2.0->google-cloud-storage>=1.13.0->kfp) (1.22.4)\n",
      "Requirement already satisfied: requests<3.0.0dev,>=2.18.0 in /opt/conda/lib/python3.7/site-packages (from google-api-core<2.0.0dev,>=1.16.0->google-cloud-core<2.0dev,>=1.2.0->google-cloud-storage>=1.13.0->kfp) (2.25.1)\n",
      "Requirement already satisfied: protobuf>=3.12.0 in /opt/conda/lib/python3.7/site-packages (from google-api-core<2.0.0dev,>=1.16.0->google-cloud-core<2.0dev,>=1.2.0->google-cloud-storage>=1.13.0->kfp) (3.14.0)\n",
      "Requirement already satisfied: pytz in /opt/conda/lib/python3.7/site-packages (from google-api-core<2.0.0dev,>=1.16.0->google-cloud-core<2.0dev,>=1.2.0->google-cloud-storage>=1.13.0->kfp) (2020.5)\n",
      "Requirement already satisfied: googleapis-common-protos<2.0dev,>=1.6.0 in /opt/conda/lib/python3.7/site-packages (from google-api-core<2.0.0dev,>=1.16.0->google-cloud-core<2.0dev,>=1.2.0->google-cloud-storage>=1.13.0->kfp) (1.52.0)\n",
      "Requirement already satisfied: google-crc32c<2.0dev,>=1.0 in /opt/conda/lib/python3.7/site-packages (from google-resumable-media<2.0dev,>=0.6.0->google-cloud-storage>=1.13.0->kfp) (1.1.0)\n",
      "Requirement already satisfied: cffi>=1.0.0 in /opt/conda/lib/python3.7/site-packages (from google-crc32c<2.0dev,>=1.0->google-resumable-media<2.0dev,>=0.6.0->google-cloud-storage>=1.13.0->kfp) (1.14.4)\n",
      "Requirement already satisfied: pycparser in /opt/conda/lib/python3.7/site-packages (from cffi>=1.0.0->google-crc32c<2.0dev,>=1.0->google-resumable-media<2.0dev,>=0.6.0->google-cloud-storage>=1.13.0->kfp) (2.20)\n",
      "Requirement already satisfied: pyrsistent>=0.14.0 in /opt/conda/lib/python3.7/site-packages (from jsonschema>=3.0.1->kfp) (0.17.3)\n",
      "Requirement already satisfied: attrs>=17.4.0 in /opt/conda/lib/python3.7/site-packages (from jsonschema>=3.0.1->kfp) (20.3.0)\n",
      "Requirement already satisfied: importlib-metadata in /opt/conda/lib/python3.7/site-packages (from jsonschema>=3.0.1->kfp) (3.3.0)\n",
      "Requirement already satisfied: urllib3>=1.15 in /opt/conda/lib/python3.7/site-packages (from kfp-server-api<2.0.0,>=1.1.2->kfp) (1.26.2)\n",
      "Requirement already satisfied: certifi in /opt/conda/lib/python3.7/site-packages (from kfp-server-api<2.0.0,>=1.1.2->kfp) (2020.12.5)\n",
      "Requirement already satisfied: python-dateutil in /opt/conda/lib/python3.7/site-packages (from kfp-server-api<2.0.0,>=1.1.2->kfp) (2.8.1)\n",
      "Requirement already satisfied: websocket-client!=0.40.0,!=0.41.*,!=0.42.*,>=0.32.0 in /opt/conda/lib/python3.7/site-packages (from kubernetes<12.0.0,>=8.0.0->kfp) (0.57.0)\n",
      "Requirement already satisfied: requests-oauthlib in /opt/conda/lib/python3.7/site-packages (from kubernetes<12.0.0,>=8.0.0->kfp) (1.3.0)\n",
      "Requirement already satisfied: pyasn1<0.5.0,>=0.4.6 in /opt/conda/lib/python3.7/site-packages (from pyasn1-modules>=0.2.1->google-auth>=1.6.1->kfp) (0.4.8)\n",
      "Requirement already satisfied: idna<3,>=2.5 in /opt/conda/lib/python3.7/site-packages (from requests<3.0.0dev,>=2.18.0->google-api-core<2.0.0dev,>=1.16.0->google-cloud-core<2.0dev,>=1.2.0->google-cloud-storage>=1.13.0->kfp) (2.10)\n",
      "Requirement already satisfied: chardet<5,>=3.0.2 in /opt/conda/lib/python3.7/site-packages (from requests<3.0.0dev,>=2.18.0->google-api-core<2.0.0dev,>=1.16.0->google-cloud-core<2.0dev,>=1.2.0->google-cloud-storage>=1.13.0->kfp) (4.0.0)\n",
      "Requirement already satisfied: wrapt<2,>=1.10 in /opt/conda/lib/python3.7/site-packages (from Deprecated->kfp) (1.12.1)\n",
      "Requirement already satisfied: zipp>=0.5 in /opt/conda/lib/python3.7/site-packages (from importlib-metadata->jsonschema>=3.0.1->kfp) (3.4.0)\n",
      "Requirement already satisfied: typing-extensions>=3.6.4 in /opt/conda/lib/python3.7/site-packages (from importlib-metadata->jsonschema>=3.0.1->kfp) (3.7.4.3)\n",
      "Requirement already satisfied: oauthlib>=3.0.0 in /opt/conda/lib/python3.7/site-packages (from requests-oauthlib->kubernetes<12.0.0,>=8.0.0->kfp) (3.1.0)\n",
      "Requirement already satisfied: wheel in /opt/conda/lib/python3.7/site-packages (from strip-hints->kfp) (0.36.2)\n"
     ]
    }
   ],
   "source": [
    "!pip install kfp"
   ]
  },
  {
   "cell_type": "markdown",
   "metadata": {},
   "source": [
    "# Building Kubeflow Pipeline"
   ]
  },
  {
   "cell_type": "code",
   "execution_count": 105,
   "metadata": {},
   "outputs": [],
   "source": [
    "import kfp\n",
    "import kfp.components as comp\n",
    "from kubernetes.client.models import V1EnvVar"
   ]
  },
  {
   "cell_type": "markdown",
   "metadata": {},
   "source": [
    "## Define kubeflow pipeline Component"
   ]
  },
  {
   "cell_type": "code",
   "execution_count": 106,
   "metadata": {},
   "outputs": [],
   "source": [
    "@kfp.dsl.component\n",
    "def get_data():\n",
    "    # Defining component configuration\n",
    "    training_component = kfp.dsl.ContainerOp(\n",
    "        name='Data-Preparation',\n",
    "        image='docker.io/doctorai/kubeflow-sdk-farmer',\n",
    "        command=['python', 'get_data.py'],\n",
    "        )\n",
    "    return training_component"
   ]
  },
  {
   "cell_type": "code",
   "execution_count": 107,
   "metadata": {},
   "outputs": [],
   "source": [
    "@kfp.dsl.component\n",
    "def data_preprocessing():    \n",
    "    # Defining component configuration\n",
    "    training_component = kfp.dsl.ContainerOp(\n",
    "        name='Data-Preparation',\n",
    "        image='docker.io/doctorai/kubeflow-sdk-farmer',\n",
    "        command=['python', 'process_data.py'],\n",
    "        )\n",
    "    return training_component"
   ]
  },
  {
   "cell_type": "code",
   "execution_count": 108,
   "metadata": {},
   "outputs": [],
   "source": [
    "@kfp.dsl.component\n",
    "def training():\n",
    "    # Defining component configuration\n",
    "    training_component = kfp.dsl.ContainerOp(\n",
    "        name='training',\n",
    "        image='docker.io/doctorai/kubeflow-sdk-farmer',\n",
    "        command=['python', 'train.py'],\n",
    "        file_outputs={'mlpipeline-ui-metadata':'/mlpipeline-ui-metadata.json', \"mlpipeline-metrics\":'/mlpipeline-metrics.json'}\n",
    "        )\n",
    "    \n",
    "    return training_component"
   ]
  },
  {
   "cell_type": "code",
   "execution_count": 109,
   "metadata": {},
   "outputs": [],
   "source": [
    "# Let see output of component configuration\n",
    "debug = False \n",
    "if debug :\n",
    "    training_component_vis = tensorflow_object_detection_api_training_component()\n",
    "    print(training_component_vis)"
   ]
  },
  {
   "cell_type": "markdown",
   "metadata": {},
   "source": [
    "## Final Kubeflow pipeline Definition"
   ]
  },
  {
   "cell_type": "code",
   "execution_count": 110,
   "metadata": {},
   "outputs": [],
   "source": [
    "@kfp.dsl.pipeline(\n",
    "  name=\"Modeling Swiss farmer's attitudes about\",\n",
    "  description=\"Modeling Swiss farmer's attitudes about\"\n",
    ")\n",
    "def farmer():\n",
    "    download_data = get_data()\n",
    "    download_data.execution_options.caching_strategy.max_cache_staleness = \"P0D\"\n",
    "    data_processing = data_preprocessing().after(download_data)\n",
    "    data_processing.execution_options.caching_strategy.max_cache_staleness = \"P0D\"\n",
    "    train = training().after(data_processing)\n",
    "    train.execution_options.caching_strategy.max_cache_staleness = \"P0D\"\n"
   ]
  },
  {
   "cell_type": "code",
   "execution_count": 111,
   "metadata": {},
   "outputs": [],
   "source": [
    "# Let see output of pipeline configuration\n",
    "debug = False \n",
    "if debug :\n",
    "    training_pipeline_output = farmer()\n",
    "    print(training_component_output)"
   ]
  },
  {
   "cell_type": "markdown",
   "metadata": {},
   "source": [
    "## Compile Kubeflow Pipeline \n",
    "* It will Generate .zip file inside this contain YAMl file which contain the configuration of kubeflow pipeline"
   ]
  },
  {
   "cell_type": "code",
   "execution_count": 112,
   "metadata": {},
   "outputs": [],
   "source": [
    "kfp.compiler.Compiler().compile(farmer, 'farmer-kubeflow-sdk-demo.zip')"
   ]
  },
  {
   "cell_type": "markdown",
   "metadata": {},
   "source": [
    "## Connect to deployed kubeflow pipeline Endpoint (GCP)"
   ]
  },
  {
   "cell_type": "code",
   "execution_count": 113,
   "metadata": {},
   "outputs": [],
   "source": [
    "# Create kfp client\n",
    "# Note: Add the KubeFlow Pipeline endpoint below if the client is not running on the same cluster.\n",
    "client = kfp.Client(\"118d949fbd12e5f7-dot-us-central2.pipelines.googleusercontent.com\")"
   ]
  },
  {
   "cell_type": "markdown",
   "metadata": {},
   "source": [
    "### Create Experiment "
   ]
  },
  {
   "cell_type": "code",
   "execution_count": 114,
   "metadata": {},
   "outputs": [
    {
     "data": {
      "text/html": [
       "<a href=\"http://118d949fbd12e5f7-dot-us-central2.pipelines.googleusercontent.com/#/experiments/details/dbe37522-a7fb-4202-9393-8c680ffc1097\" target=\"_blank\" >Experiment details</a>."
      ],
      "text/plain": [
       "<IPython.core.display.HTML object>"
      ]
     },
     "metadata": {},
     "output_type": "display_data"
    }
   ],
   "source": [
    "EXPERIMENT_NAME = 'farmer-1'\n",
    "experiment = client.create_experiment(name=EXPERIMENT_NAME)"
   ]
  },
  {
   "cell_type": "markdown",
   "metadata": {},
   "source": [
    "### Deploy pipeline to kubeflow pipeline Endpoint"
   ]
  },
  {
   "cell_type": "code",
   "execution_count": 115,
   "metadata": {},
   "outputs": [
    {
     "data": {
      "text/html": [
       "<a href=\"http://118d949fbd12e5f7-dot-us-central2.pipelines.googleusercontent.com/#/runs/details/4447c501-d69a-4c1f-9c64-af2b0b3e5258\" target=\"_blank\" >Run details</a>."
      ],
      "text/plain": [
       "<IPython.core.display.HTML object>"
      ]
     },
     "metadata": {},
     "output_type": "display_data"
    }
   ],
   "source": [
    "run = client.run_pipeline(experiment.id, 'farmer-run-1', 'farmer-kubeflow-sdk-demo.zip')"
   ]
  }
 ],
 "metadata": {
  "environment": {
   "name": "tf2-gpu.2-4.m61",
   "type": "gcloud",
   "uri": "gcr.io/deeplearning-platform-release/tf2-gpu.2-4:m61"
  },
  "kernelspec": {
   "display_name": "Python 3",
   "language": "python",
   "name": "python3"
  },
  "language_info": {
   "codemirror_mode": {
    "name": "ipython",
    "version": 3
   },
   "file_extension": ".py",
   "mimetype": "text/x-python",
   "name": "python",
   "nbconvert_exporter": "python",
   "pygments_lexer": "ipython3",
   "version": "3.7.9"
  }
 },
 "nbformat": 4,
 "nbformat_minor": 4
}
